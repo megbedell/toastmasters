{
 "cells": [
  {
   "cell_type": "code",
   "execution_count": 1,
   "metadata": {},
   "outputs": [],
   "source": [
    "import matplotlib.pyplot as plt\n",
    "import numpy as np\n",
    "from astropy.io import fits\n",
    "import glob\n",
    "from tqdm import tqdm"
   ]
  },
  {
   "cell_type": "markdown",
   "metadata": {},
   "source": [
    "Grab every FFI for sector 2, camera 2, chip 2 and get the median flux value for each one:"
   ]
  },
  {
   "cell_type": "code",
   "execution_count": 7,
   "metadata": {},
   "outputs": [],
   "source": [
    "filenames = glob.glob('/mnt/ceph/users/dforeman/tess/ffis/tess/ffi/s0001/2018/*/2-2/*.fits')\n",
    "filenames = np.array(filenames)"
   ]
  },
  {
   "cell_type": "code",
   "execution_count": 8,
   "metadata": {},
   "outputs": [
    {
     "data": {
      "text/plain": [
       "1282"
      ]
     },
     "execution_count": 8,
     "metadata": {},
     "output_type": "execute_result"
    }
   ],
   "source": [
    "len(filenames)"
   ]
  },
  {
   "cell_type": "code",
   "execution_count": 15,
   "metadata": {},
   "outputs": [
    {
     "name": "stderr",
     "output_type": "stream",
     "text": [
      "100%|██████████| 1282/1282 [05:33<00:00,  4.18it/s]\n"
     ]
    }
   ],
   "source": [
    "medians = []\n",
    "ts = []\n",
    "for fn in tqdm(filenames):\n",
    "    with fits.open(fn) as sp:\n",
    "        try:\n",
    "            ts.append(sp[0].header['TSTART'])\n",
    "            medians.append(np.nanmedian(sp[1].data))\n",
    "        except:\n",
    "            print('File {0} doesn\\'t look right.'.format(fn))\n",
    "            continue"
   ]
  },
  {
   "cell_type": "code",
   "execution_count": 20,
   "metadata": {},
   "outputs": [
    {
     "data": {
      "image/png": "[encoded data removed]",
      "text/plain": [
       "<matplotlib.figure.Figure at 0x2aab33a74c88>"
      ]
     },
     "metadata": {},
     "output_type": "display_data"
    }
   ],
   "source": [
    "plt.scatter(ts - np.min(ts), medians, s=3)\n",
    "plt.show()"
   ]
  },
  {
   "cell_type": "code",
   "execution_count": 22,
   "metadata": {},
   "outputs": [],
   "source": [
    "f = open('../data/sector1_2_2_medians.csv','w')\n",
    "f.write('start_time,median_flux\\n')\n",
    "for t,m in zip(ts, medians):\n",
    "    f.write('{0:.8f}, {1:.8f}\\n'.format(t,m))\n",
    "f.close()"
   ]
  },
  {
   "cell_type": "code",
   "execution_count": 23,
   "metadata": {},
   "outputs": [
    {
     "data": {
      "text/plain": [
       "1282"
      ]
     },
     "execution_count": 23,
     "metadata": {},
     "output_type": "execute_result"
    }
   ],
   "source": [
    "len(ts)"
   ]
  },
  {
   "cell_type": "code",
   "execution_count": 40,
   "metadata": {},
   "outputs": [],
   "source": [
    "emangles = np.genfromtxt('../data/emangles_S1_O9_d-54.dat', comments='#', encoding=None, dtype=None,\n",
    "                         names=True)"
   ]
  },
  {
   "cell_type": "code",
   "execution_count": 44,
   "metadata": {},
   "outputs": [
    {
     "data": {
      "text/plain": [
       "dtype([('SCTime', '<i8'), ('Date', '<U10'), ('Time', '<U8'), ('Ddays', '<f8'), ('Ealt', '<f8'), ('Eaz', '<f8'), ('Edist', '<f8'), ('Malt', '<f8'), ('Maz', '<f8'), ('Mdist', '<f8'), ('FIN', '<i8'), ('TJD', '<f8')])"
      ]
     },
     "execution_count": 44,
     "metadata": {},
     "output_type": "execute_result"
    }
   ],
   "source": [
    "emangles.dtype"
   ]
  },
  {
   "cell_type": "code",
   "execution_count": 47,
   "metadata": {},
   "outputs": [
    {
     "data": {
      "text/plain": [
       "array([1324.71, 1324.96, 1325.21, 1325.46, 1325.71, 1325.96, 1326.21,\n",
       "       1326.46, 1326.71, 1326.96, 1327.21, 1327.46, 1327.71, 1327.96,\n",
       "       1328.21, 1328.46, 1328.71, 1328.96, 1329.21, 1329.46, 1329.71,\n",
       "       1329.96, 1330.21, 1330.46, 1330.71, 1330.96, 1331.21, 1331.46,\n",
       "       1331.71, 1331.96, 1332.21, 1332.46, 1332.71, 1332.96, 1333.21,\n",
       "       1333.46, 1333.71, 1333.96, 1334.21, 1334.46, 1334.71, 1334.96,\n",
       "       1335.21, 1335.46, 1335.71, 1335.96, 1336.21, 1336.46, 1336.71,\n",
       "       1336.96, 1337.21, 1337.46, 1337.71, 1337.96, 1338.21, 1338.46,\n",
       "       1338.71, 1338.96, 1339.21, 1339.46, 1339.71, 1339.96, 1340.21,\n",
       "       1340.46, 1340.71, 1340.96, 1341.21, 1341.46, 1341.71, 1341.96,\n",
       "       1342.21, 1342.46, 1342.71, 1342.96, 1343.21, 1343.46, 1343.71,\n",
       "       1343.96, 1344.21, 1344.46, 1344.71, 1344.96, 1345.21, 1345.46,\n",
       "       1345.71, 1345.96, 1346.21, 1346.46, 1346.71, 1346.96, 1347.21,\n",
       "       1347.46, 1347.71, 1347.96, 1348.21, 1348.46, 1348.71, 1348.96,\n",
       "       1349.21, 1349.46, 1349.71, 1349.96, 1350.21, 1350.46, 1350.71,\n",
       "       1350.96, 1351.21, 1351.46, 1351.71, 1351.96, 1352.21, 1352.46,\n",
       "       1352.71, 1352.96, 1353.21, 1353.46])"
      ]
     },
     "execution_count": 47,
     "metadata": {},
     "output_type": "execute_result"
    }
   ],
   "source": [
    "emangles['TJD']"
   ]
  },
  {
   "cell_type": "code",
   "execution_count": 56,
   "metadata": {},
   "outputs": [
    {
     "data": {
      "image/png": "[encoded data removed]",
      "text/plain": [
       "<matplotlib.figure.Figure at 0x2aab380e1a58>"
      ]
     },
     "metadata": {},
     "output_type": "display_data"
    }
   ],
   "source": [
    "%matplotlib inline\n",
    "plt.scatter(ts, np.ones_like(ts), s=1)\n",
    "plt.scatter(emangles['TJD'], np.ones_like(emangles['TJD']), s=2)\n",
    "plt.xlim([1330,1331]);"
   ]
  },
  {
   "cell_type": "code",
   "execution_count": null,
   "metadata": {},
   "outputs": [],
   "source": []
  }
 ],
 "metadata": {
  "kernelspec": {
   "display_name": "Python 3 (python3/3.6.2)",
   "language": "python",
   "name": "module-python3-3.6.2-python3"
  },
  "language_info": {
   "codemirror_mode": {
    "name": "ipython",
    "version": 3
   },
   "file_extension": ".py",
   "mimetype": "text/x-python",
   "name": "python",
   "nbconvert_exporter": "python",
   "pygments_lexer": "ipython3",
   "version": "3.6.2"
  }
 },
 "nbformat": 4,
 "nbformat_minor": 2
}
